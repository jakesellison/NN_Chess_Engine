{
 "cells": [
  {
   "cell_type": "code",
   "execution_count": null,
   "id": "f8e210f4-34cb-417d-a728-1a6ab63783f2",
   "metadata": {},
   "outputs": [],
   "source": [
    "import numpy as np\n",
    "import chess\n",
    "import chess.pgn\n",
    "import keras\n",
    "import tensorflow as tf\n",
    "from data_utils import read_pgn_from_file   # reads in pgn game files as chess objects\n",
    "from data_utils import gen_nn_data          # converts pgn files into numeric board representations appended with game metadata\n",
    "from data_utils import mod_MaP_inputs       # adds from_square to second NN input"
   ]
  },
  {
   "cell_type": "code",
   "execution_count": null,
   "id": "7e2816af-5518-4955-9c70-f081653435d2",
   "metadata": {},
   "outputs": [],
   "source": [
    "pgn_games = read_pgn_from_file([\"fics_games/fics_2019.pgn\"])"
   ]
  },
  {
   "cell_type": "code",
   "execution_count": null,
   "id": "03eb20b3-f491-4843-8dd1-7a68655620d4",
   "metadata": {},
   "outputs": [],
   "source": [
    "# extract inputs from a list of PGN games\n",
    "game_num = len(pgn_games)\n",
    "\n",
    "X1_white_early, y1_white_early, y2_white_early = gen_nn_data(pgn_games[:game_num], color = True, period = 'early')\n",
    "X1_white_mid, y1_white_mid, y2_white_mid = gen_nn_data(pgn_games[:game_num], color = True, period = 'mid')\n",
    "X1_white_late, y1_white_late, y2_white_late = gen_nn_data(pgn_games[:game_num], color = True, period = 'late')\n",
    "\n",
    "X2_white_early = mod_MaP_inputs(X1_white_early, y1_white_early)\n",
    "X2_white_mid = mod_MaP_inputs(X1_white_mid, y1_white_mid)\n",
    "X2_white_late = mod_MaP_inputs(X1_white_late, y1_white_late)\n",
    "\n",
    "# convert the targets to 64-element arrays to contain the decision space of the board (8 x 8 squares)\n",
    "y1_white_early = tf.keras.utils.to_categorical(y1_white_early, num_classes=64)\n",
    "y2_white_early = tf.keras.utils.to_categorical(y2_white_early, num_classes=64)\n",
    "\n",
    "y1_white_mid= tf.keras.utils.to_categorical(y1_white_mid, num_classes=64)\n",
    "y2_white_mid = tf.keras.utils.to_categorical(y2_white_mid, num_classes=64)\n",
    "\n",
    "y1_white_late = tf.keras.utils.to_categorical(y1_white_late, num_classes=64)\n",
    "y2_white_late = tf.keras.utils.to_categorical(y2_white_late, num_classes=64)"
   ]
  },
  {
   "cell_type": "code",
   "execution_count": null,
   "id": "23e5d861-be28-47cc-a75d-72640f86ec4b",
   "metadata": {},
   "outputs": [],
   "source": [
    "SaP_white_early = keras.Sequential([\n",
    "    keras.layers.Dense(units=256, input_shape=(71, ), activation=\"relu\", name=\"hidden_layer1\"),\n",
    "    keras.layers.Dropout(0.05),\n",
    "    keras.layers.Dense(units=128, activation=\"relu\", name=\"hidden_layer2\"),\n",
    "    keras.layers.Dropout(0.05),\n",
    "    keras.layers.Dense(units=64, activation=\"softmax\", name=\"output_layer\")\n",
    "])\n",
    "\n",
    "SaP_white_early.compile(optimizer=\"adam\", loss=\"categorical_crossentropy\", metrics=[\"acc\"])\n",
    "\n",
    "SaP_white_mid = keras.Sequential([\n",
    "    keras.layers.Dense(units=256, input_shape=(71, ), activation=\"relu\", name=\"hidden_layer1\"),\n",
    "    keras.layers.Dropout(0.05),\n",
    "    keras.layers.Dense(units=128, activation=\"relu\", name=\"hidden_layer2\"),\n",
    "    keras.layers.Dropout(0.05),\n",
    "    keras.layers.Dense(units=64, activation=\"softmax\", name=\"output_layer\")\n",
    "])\n",
    "\n",
    "SaP_white_mid.compile(optimizer=\"adam\", loss=\"categorical_crossentropy\", metrics=[\"acc\"])\n",
    "\n",
    "SaP_white_late = keras.Sequential([\n",
    "    keras.layers.Dense(units=256, input_shape=(71, ), activation=\"relu\", name=\"hidden_layer1\"),\n",
    "    keras.layers.Dropout(0.05),\n",
    "    keras.layers.Dense(units=128, activation=\"relu\", name=\"hidden_layer2\"),\n",
    "    keras.layers.Dropout(0.05),\n",
    "    keras.layers.Dense(units=64, activation=\"softmax\", name=\"output_layer\")\n",
    "])\n",
    "\n",
    "SaP_white_late.compile(optimizer=\"adam\", loss=\"categorical_crossentropy\", metrics=[\"acc\"])\n",
    "\n",
    "MaP_white_early = keras.Sequential([\n",
    "    keras.layers.Dense(units=256, input_shape=(72, ), activation=\"relu\", name=\"hidden_layer1\"),\n",
    "    keras.layers.Dropout(0.05),\n",
    "    keras.layers.Dense(units=128, activation=\"relu\", name=\"hidden_layer2\"),\n",
    "    keras.layers.Dropout(0.05),\n",
    "    keras.layers.Dense(units=64, activation=\"softmax\", name=\"output_layer\")\n",
    "])\n",
    "\n",
    "MaP_white_early.compile(optimizer=\"adam\", loss=\"categorical_crossentropy\", metrics=[\"acc\"])\n",
    "\n",
    "MaP_white_mid = keras.Sequential([\n",
    "    keras.layers.Dense(units=256, input_shape=(72, ), activation=\"relu\", name=\"hidden_layer1\"),\n",
    "    keras.layers.Dropout(0.05),\n",
    "    keras.layers.Dense(units=128, activation=\"relu\", name=\"hidden_layer2\"),\n",
    "    keras.layers.Dropout(0.05),\n",
    "    keras.layers.Dense(units=64, activation=\"softmax\", name=\"output_layer\")\n",
    "])\n",
    "\n",
    "MaP_white_mid.compile(optimizer=\"adam\", loss=\"categorical_crossentropy\", metrics=[\"acc\"])\n",
    "\n",
    "MaP_white_late = keras.Sequential([\n",
    "    keras.layers.Dense(units=256, input_shape=(72, ), activation=\"relu\", name=\"hidden_layer1\"),\n",
    "    keras.layers.Dropout(0.05),\n",
    "    keras.layers.Dense(units=128, activation=\"relu\", name=\"hidden_layer2\"),\n",
    "    keras.layers.Dropout(0.05),\n",
    "    keras.layers.Dense(units=64, activation=\"softmax\", name=\"output_layer\")\n",
    "])\n",
    "\n",
    "MaP_white_late.compile(optimizer=\"adam\", loss=\"categorical_crossentropy\", metrics=[\"acc\"])"
   ]
  },
  {
   "cell_type": "code",
   "execution_count": null,
   "id": "0c85f628-2921-424f-9762-f8401f6e5dc4",
   "metadata": {},
   "outputs": [],
   "source": [
    "SaP_white_early.fit(x=X1_white_early, y=y1_white_early, epochs=20, validation_split=.25, verbose=1,\n",
    "    callbacks=[\n",
    "        keras.callbacks.EarlyStopping(patience=8, verbose=1, restore_best_weights=True),\n",
    "        keras.callbacks.ReduceLROnPlateau(factor=.5, patience=3, verbose=1),\n",
    "    ])\n",
    "\n",
    "SaP_white_mid.fit(x=X1_white_mid, y=y1_white_mid, epochs=20, validation_split=.25, verbose=1,\n",
    "    callbacks=[\n",
    "        keras.callbacks.EarlyStopping(patience=8, verbose=1, restore_best_weights=True),\n",
    "        keras.callbacks.ReduceLROnPlateau(factor=.5, patience=3, verbose=1),\n",
    "    ])\n",
    "\n",
    "SaP_white_late.fit(x=X1_white_late, y=y1_white_late, epochs=20, validation_split=.25, verbose=1,\n",
    "    callbacks=[\n",
    "        keras.callbacks.EarlyStopping(patience=8, verbose=1, restore_best_weights=True),\n",
    "        keras.callbacks.ReduceLROnPlateau(factor=.5, patience=3, verbose=1),\n",
    "    ])\n",
    "\n",
    "MaP_white_early.fit(x=X2_white_early, y=y2_white_early, epochs=20, validation_split=.25, verbose=1,\n",
    "    callbacks=[\n",
    "        keras.callbacks.EarlyStopping(patience=8, verbose=1, restore_best_weights=True),\n",
    "        keras.callbacks.ReduceLROnPlateau(factor=.5, patience=3, verbose=1),\n",
    "    ])\n",
    "\n",
    "MaP_white_mid.fit(x=X2_white_mid, y=y2_white_mid, epochs=20, validation_split=.25, verbose=1,\n",
    "    callbacks=[\n",
    "        keras.callbacks.EarlyStopping(patience=8, verbose=1, restore_best_weights=True),\n",
    "        keras.callbacks.ReduceLROnPlateau(factor=.5, patience=3, verbose=1),\n",
    "    ])\n",
    "\n",
    "MaP_white_late.fit(x=X2_white_late, y=y2_white_late, epochs=20, validation_split=.25, verbose=1,\n",
    "    callbacks=[\n",
    "        keras.callbacks.EarlyStopping(patience=8, verbose=1, restore_best_weights=True),\n",
    "        keras.callbacks.ReduceLROnPlateau(factor=.5, patience=3, verbose=1),\n",
    "    ])"
   ]
  },
  {
   "cell_type": "code",
   "execution_count": null,
   "id": "a3781173-397e-4f65-bc63-1025ce97147e",
   "metadata": {},
   "outputs": [],
   "source": [
    "# SaP_white_early.save('keras_models/SaP_white_early')\n",
    "# SaP_white_mid.save('keras_models/SaP_white_mid')\n",
    "# SaP_white_late.save('keras_models/SaP_white_late')\n",
    "# MaP_white_early.save('keras_models/MaP_white_early')\n",
    "# MaP_white_mid.save('keras_models/MaP_white_mid')\n",
    "# MaP_white_late.save('keras_models/MaP_white_late')"
   ]
  },
  {
   "cell_type": "code",
   "execution_count": null,
   "id": "df9be950-c31d-4e5e-acce-2d5e68de8901",
   "metadata": {},
   "outputs": [],
   "source": [
    "# SaP_white_early = keras.models.load_model('keras_models/SaP_white_early')\n",
    "# SaP_white_mid = keras.models.load_model('keras_models/SaP_white_mid')\n",
    "# SaP_white_late = keras.models.load_model('keras_models/SaP_white_late')\n",
    "# MaP_white_early = keras.models.load_model('keras_models/MaP_white_early')\n",
    "# MaP_white_mid = keras.models.load_model('keras_models/MaP_white_mid')\n",
    "# MaP_white_late = keras.models.load_model('keras_models/MaP_white_late')"
   ]
  },
  {
   "cell_type": "code",
   "execution_count": null,
   "id": "93c18a38-d20f-47ae-b74a-14aed9c2f402",
   "metadata": {},
   "outputs": [],
   "source": [
    "SaP_white_early.evaluate(x=X1_white_early, y=y1_white_early)\n",
    "SaP_white_mid.evaluate(x=X1_white_mid, y=y1_white_mid)\n",
    "SaP_white_late.evaluate(x=X1_white_late, y=y1_white_late)\n",
    "MaP_white_early.evaluate(x=X2_white_early, y=y2_white_early)\n",
    "MaP_white_mid.evaluate(x=X2_white_mid, y=y2_white_mid)\n",
    "MaP_white_late.evaluate(x=X2_white_late, y=y2_white_late)"
   ]
  },
  {
   "cell_type": "code",
   "execution_count": null,
   "id": "db2f7f73-d97d-48a4-91be-286e4ccf0403",
   "metadata": {},
   "outputs": [],
   "source": [
    "SaP_white_early.evaluate(x=X1_white_early, y=y1_white_early)\n",
    "SaP_white_mid.evaluate(x=X1_white_mid, y=y1_white_mid)\n",
    "SaP_white_late.evaluate(x=X1_white_late, y=y1_white_late)\n",
    "MaP_white_early.evaluate(x=X2_white_early, y=y2_white_early)\n",
    "MaP_white_mid.evaluate(x=X2_white_mid, y=y2_white_mid)\n",
    "MaP_white_late.evaluate(x=X2_white_late, y=y2_white_late)"
   ]
  },
  {
   "cell_type": "code",
   "execution_count": null,
   "id": "f15cd85d-6f71-4b4b-8593-072d37275422",
   "metadata": {},
   "outputs": [],
   "source": [
    "np.shape(X1_white_early)\n",
    "# np.shape(y1_white_early)"
   ]
  }
 ],
 "metadata": {
  "kernelspec": {
   "display_name": "Python 3",
   "language": "python",
   "name": "python3"
  },
  "language_info": {
   "codemirror_mode": {
    "name": "ipython",
    "version": 3
   },
   "file_extension": ".py",
   "mimetype": "text/x-python",
   "name": "python",
   "nbconvert_exporter": "python",
   "pygments_lexer": "ipython3",
   "version": "3.8.8"
  }
 },
 "nbformat": 4,
 "nbformat_minor": 5
}
