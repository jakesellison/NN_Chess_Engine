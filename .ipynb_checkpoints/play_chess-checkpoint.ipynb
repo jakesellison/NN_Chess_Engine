{
 "cells": [
  {
   "cell_type": "code",
   "execution_count": null,
   "id": "0d59ef08-45ac-4c87-bcf3-b831d3832377",
   "metadata": {},
   "outputs": [],
   "source": [
    "import numpy as np\n",
    "import keras\n",
    "import chess\n",
    "import chess.pgn\n",
    "import matplotlib.pyplot as plt\n",
    "import time\n",
    "from play_utils import model_get_move_v1\n",
    "from play_utils import model_get_move_v2\n",
    "from play_utils import rand_get_move"
   ]
  },
  {
   "cell_type": "code",
   "execution_count": null,
   "id": "7d0c4ba0-e039-4391-94af-f721a9c8cf07",
   "metadata": {},
   "outputs": [],
   "source": [
    "# initialize starting board\n",
    "board = chess.Board()"
   ]
  },
  {
   "cell_type": "code",
   "execution_count": null,
   "id": "ed5d5835-15ab-4310-b4c2-19c79dfece8a",
   "metadata": {},
   "outputs": [],
   "source": [
    "# play a game turn by turn against random opponent with GUI\n",
    "if board.turn == True:\n",
    "    prediction = model_get_move_v1(board, True)\n",
    "    board.push(prediction)\n",
    "else:\n",
    "    #board.push(rand_get_move(board)) # play a random move\n",
    "    board.push(chess.Move.from_uci(\"h2h1\")) # manual input move entry\n",
    "board"
   ]
  },
  {
   "cell_type": "code",
   "execution_count": null,
   "id": "155c34f8-b80d-4040-964c-42512beeef7e",
   "metadata": {},
   "outputs": [],
   "source": [
    "def play_game():\n",
    "    board = chess.Board()\n",
    "    while not(board.is_insufficient_material()) and not(board.is_checkmate()) and not(board.is_stalemate()):\n",
    "        if board.ply() > 100:\n",
    "            return('0-0')\n",
    "        if board.turn == True:\n",
    "            prediction = model_get_move(board, [1])\n",
    "            board.push(prediction)\n",
    "        else:\n",
    "            board.push(rand_get_move(board))\n",
    "    return(board.result())\n",
    "\n",
    "outcome = []\n",
    "for i in range(100):\n",
    "    result = play_game()\n",
    "    print(result)\n",
    "    outcome.append(result)"
   ]
  }
 ],
 "metadata": {
  "kernelspec": {
   "display_name": "Python 3",
   "language": "python",
   "name": "python3"
  },
  "language_info": {
   "codemirror_mode": {
    "name": "ipython",
    "version": 3
   },
   "file_extension": ".py",
   "mimetype": "text/x-python",
   "name": "python",
   "nbconvert_exporter": "python",
   "pygments_lexer": "ipython3",
   "version": "3.8.8"
  }
 },
 "nbformat": 4,
 "nbformat_minor": 5
}
